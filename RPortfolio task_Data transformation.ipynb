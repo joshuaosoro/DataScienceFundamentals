{
 "cells": [
  {
   "cell_type": "markdown",
   "metadata": {},
   "source": [
    "# Introduction"
   ]
  },
  {
   "cell_type": "markdown",
   "metadata": {},
   "source": [
    "*library* function loads the tidyr package into the global environment. The *data* function has the effects of loading **who** dataset from package tidyr into the global environment"
   ]
  },
  {
   "cell_type": "code",
   "execution_count": 17,
   "metadata": {},
   "outputs": [],
   "source": [
    "library(tidyr)\n",
    "data(who, package = \"tidyr\")"
   ]
  },
  {
   "cell_type": "markdown",
   "metadata": {},
   "source": [
    "---"
   ]
  },
  {
   "cell_type": "markdown",
   "metadata": {},
   "source": [
    "# 1. Gathering columns"
   ]
  },
  {
   "cell_type": "markdown",
   "metadata": {},
   "source": [
    "The *pivot_longer* has the effect of gathering all the columns specified by **cols** keyword parameter under column name specified as **key** in the **names_to** keyword parameter."
   ]
  },
  {
   "cell_type": "code",
   "execution_count": 4,
   "metadata": {},
   "outputs": [],
   "source": [
    "#1. (2 marks) Gather together all the columns from _new_spm014 to _newrelf65\n",
    "who1 <- pivot_longer(who,\n",
    "             cols = c(\"new_sp_m014\":\"newrel_f65\"),\n",
    "             names_to = \"key\",\n",
    "             values_to = \"cases\", values_drop_na = TRUE)"
   ]
  },
  {
   "cell_type": "code",
   "execution_count": 5,
   "metadata": {},
   "outputs": [
    {
     "data": {
      "text/html": [
       "<table class=\"dataframe\">\n",
       "<caption>A tibble: 6 × 6</caption>\n",
       "<thead>\n",
       "\t<tr><th scope=col>country</th><th scope=col>iso2</th><th scope=col>iso3</th><th scope=col>year</th><th scope=col>key</th><th scope=col>cases</th></tr>\n",
       "\t<tr><th scope=col>&lt;chr&gt;</th><th scope=col>&lt;chr&gt;</th><th scope=col>&lt;chr&gt;</th><th scope=col>&lt;int&gt;</th><th scope=col>&lt;chr&gt;</th><th scope=col>&lt;int&gt;</th></tr>\n",
       "</thead>\n",
       "<tbody>\n",
       "\t<tr><td>Afghanistan</td><td>AF</td><td>AFG</td><td>1997</td><td>new_sp_m014 </td><td> 0</td></tr>\n",
       "\t<tr><td>Afghanistan</td><td>AF</td><td>AFG</td><td>1997</td><td>new_sp_m1524</td><td>10</td></tr>\n",
       "\t<tr><td>Afghanistan</td><td>AF</td><td>AFG</td><td>1997</td><td>new_sp_m2534</td><td> 6</td></tr>\n",
       "\t<tr><td>Afghanistan</td><td>AF</td><td>AFG</td><td>1997</td><td>new_sp_m3544</td><td> 3</td></tr>\n",
       "\t<tr><td>Afghanistan</td><td>AF</td><td>AFG</td><td>1997</td><td>new_sp_m4554</td><td> 5</td></tr>\n",
       "\t<tr><td>Afghanistan</td><td>AF</td><td>AFG</td><td>1997</td><td>new_sp_m5564</td><td> 2</td></tr>\n",
       "</tbody>\n",
       "</table>\n"
      ],
      "text/latex": [
       "A tibble: 6 × 6\n",
       "\\begin{tabular}{llllll}\n",
       " country & iso2 & iso3 & year & key & cases\\\\\n",
       " <chr> & <chr> & <chr> & <int> & <chr> & <int>\\\\\n",
       "\\hline\n",
       "\t Afghanistan & AF & AFG & 1997 & new\\_sp\\_m014  &  0\\\\\n",
       "\t Afghanistan & AF & AFG & 1997 & new\\_sp\\_m1524 & 10\\\\\n",
       "\t Afghanistan & AF & AFG & 1997 & new\\_sp\\_m2534 &  6\\\\\n",
       "\t Afghanistan & AF & AFG & 1997 & new\\_sp\\_m3544 &  3\\\\\n",
       "\t Afghanistan & AF & AFG & 1997 & new\\_sp\\_m4554 &  5\\\\\n",
       "\t Afghanistan & AF & AFG & 1997 & new\\_sp\\_m5564 &  2\\\\\n",
       "\\end{tabular}\n"
      ],
      "text/markdown": [
       "\n",
       "A tibble: 6 × 6\n",
       "\n",
       "| country &lt;chr&gt; | iso2 &lt;chr&gt; | iso3 &lt;chr&gt; | year &lt;int&gt; | key &lt;chr&gt; | cases &lt;int&gt; |\n",
       "|---|---|---|---|---|---|\n",
       "| Afghanistan | AF | AFG | 1997 | new_sp_m014  |  0 |\n",
       "| Afghanistan | AF | AFG | 1997 | new_sp_m1524 | 10 |\n",
       "| Afghanistan | AF | AFG | 1997 | new_sp_m2534 |  6 |\n",
       "| Afghanistan | AF | AFG | 1997 | new_sp_m3544 |  3 |\n",
       "| Afghanistan | AF | AFG | 1997 | new_sp_m4554 |  5 |\n",
       "| Afghanistan | AF | AFG | 1997 | new_sp_m5564 |  2 |\n",
       "\n"
      ],
      "text/plain": [
       "  country     iso2 iso3 year key          cases\n",
       "1 Afghanistan AF   AFG  1997 new_sp_m014   0   \n",
       "2 Afghanistan AF   AFG  1997 new_sp_m1524 10   \n",
       "3 Afghanistan AF   AFG  1997 new_sp_m2534  6   \n",
       "4 Afghanistan AF   AFG  1997 new_sp_m3544  3   \n",
       "5 Afghanistan AF   AFG  1997 new_sp_m4554  5   \n",
       "6 Afghanistan AF   AFG  1997 new_sp_m5564  2   "
      ]
     },
     "metadata": {},
     "output_type": "display_data"
    }
   ],
   "source": [
    "#view the first six rows to see the effect of function pivot_longer\n",
    "head(who1)"
   ]
  },
  {
   "cell_type": "markdown",
   "metadata": {},
   "source": [
    "---"
   ]
  },
  {
   "cell_type": "markdown",
   "metadata": {},
   "source": [
    "# 2. Make variable names consistent"
   ]
  },
  {
   "cell_type": "markdown",
   "metadata": {},
   "source": [
    "Load stringr and dplyr packages using function *library*. Function *str_replace* from stringr package takes three arguments, the first being the string to be manipulated; the pattern to look for and thirdly the replacement string."
   ]
  },
  {
   "cell_type": "code",
   "execution_count": 7,
   "metadata": {},
   "outputs": [
    {
     "name": "stderr",
     "output_type": "stream",
     "text": [
      "\n",
      "Attaching package: 'dplyr'\n",
      "\n",
      "\n",
      "The following objects are masked from 'package:stats':\n",
      "\n",
      "    filter, lag\n",
      "\n",
      "\n",
      "The following objects are masked from 'package:base':\n",
      "\n",
      "    intersect, setdiff, setequal, union\n",
      "\n",
      "\n"
     ]
    }
   ],
   "source": [
    "#2. (2 marks) Make variable names consistent\n",
    "library(stringr)\n",
    "library(dplyr)\n",
    "who2 <- who1 %>% mutate(key = str_replace(string = key, \n",
    "                                       pattern = \"newrel_\", \n",
    "                                       replacement = \"new_rel_\"))"
   ]
  },
  {
   "cell_type": "code",
   "execution_count": 8,
   "metadata": {},
   "outputs": [
    {
     "data": {
      "text/html": [
       "<table class=\"dataframe\">\n",
       "<caption>A tibble: 6 × 6</caption>\n",
       "<thead>\n",
       "\t<tr><th scope=col>country</th><th scope=col>iso2</th><th scope=col>iso3</th><th scope=col>year</th><th scope=col>key</th><th scope=col>cases</th></tr>\n",
       "\t<tr><th scope=col>&lt;chr&gt;</th><th scope=col>&lt;chr&gt;</th><th scope=col>&lt;chr&gt;</th><th scope=col>&lt;int&gt;</th><th scope=col>&lt;chr&gt;</th><th scope=col>&lt;int&gt;</th></tr>\n",
       "</thead>\n",
       "<tbody>\n",
       "\t<tr><td>Zimbabwe</td><td>ZW</td><td>ZWE</td><td>2013</td><td>new_rel_f1524</td><td>2069</td></tr>\n",
       "\t<tr><td>Zimbabwe</td><td>ZW</td><td>ZWE</td><td>2013</td><td>new_rel_f2534</td><td>4649</td></tr>\n",
       "\t<tr><td>Zimbabwe</td><td>ZW</td><td>ZWE</td><td>2013</td><td>new_rel_f3544</td><td>3526</td></tr>\n",
       "\t<tr><td>Zimbabwe</td><td>ZW</td><td>ZWE</td><td>2013</td><td>new_rel_f4554</td><td>1453</td></tr>\n",
       "\t<tr><td>Zimbabwe</td><td>ZW</td><td>ZWE</td><td>2013</td><td>new_rel_f5564</td><td> 811</td></tr>\n",
       "\t<tr><td>Zimbabwe</td><td>ZW</td><td>ZWE</td><td>2013</td><td>new_rel_f65  </td><td> 725</td></tr>\n",
       "</tbody>\n",
       "</table>\n"
      ],
      "text/latex": [
       "A tibble: 6 × 6\n",
       "\\begin{tabular}{llllll}\n",
       " country & iso2 & iso3 & year & key & cases\\\\\n",
       " <chr> & <chr> & <chr> & <int> & <chr> & <int>\\\\\n",
       "\\hline\n",
       "\t Zimbabwe & ZW & ZWE & 2013 & new\\_rel\\_f1524 & 2069\\\\\n",
       "\t Zimbabwe & ZW & ZWE & 2013 & new\\_rel\\_f2534 & 4649\\\\\n",
       "\t Zimbabwe & ZW & ZWE & 2013 & new\\_rel\\_f3544 & 3526\\\\\n",
       "\t Zimbabwe & ZW & ZWE & 2013 & new\\_rel\\_f4554 & 1453\\\\\n",
       "\t Zimbabwe & ZW & ZWE & 2013 & new\\_rel\\_f5564 &  811\\\\\n",
       "\t Zimbabwe & ZW & ZWE & 2013 & new\\_rel\\_f65   &  725\\\\\n",
       "\\end{tabular}\n"
      ],
      "text/markdown": [
       "\n",
       "A tibble: 6 × 6\n",
       "\n",
       "| country &lt;chr&gt; | iso2 &lt;chr&gt; | iso3 &lt;chr&gt; | year &lt;int&gt; | key &lt;chr&gt; | cases &lt;int&gt; |\n",
       "|---|---|---|---|---|---|\n",
       "| Zimbabwe | ZW | ZWE | 2013 | new_rel_f1524 | 2069 |\n",
       "| Zimbabwe | ZW | ZWE | 2013 | new_rel_f2534 | 4649 |\n",
       "| Zimbabwe | ZW | ZWE | 2013 | new_rel_f3544 | 3526 |\n",
       "| Zimbabwe | ZW | ZWE | 2013 | new_rel_f4554 | 1453 |\n",
       "| Zimbabwe | ZW | ZWE | 2013 | new_rel_f5564 |  811 |\n",
       "| Zimbabwe | ZW | ZWE | 2013 | new_rel_f65   |  725 |\n",
       "\n"
      ],
      "text/plain": [
       "  country  iso2 iso3 year key           cases\n",
       "1 Zimbabwe ZW   ZWE  2013 new_rel_f1524 2069 \n",
       "2 Zimbabwe ZW   ZWE  2013 new_rel_f2534 4649 \n",
       "3 Zimbabwe ZW   ZWE  2013 new_rel_f3544 3526 \n",
       "4 Zimbabwe ZW   ZWE  2013 new_rel_f4554 1453 \n",
       "5 Zimbabwe ZW   ZWE  2013 new_rel_f5564  811 \n",
       "6 Zimbabwe ZW   ZWE  2013 new_rel_f65    725 "
      ]
     },
     "metadata": {},
     "output_type": "display_data"
    }
   ],
   "source": [
    "#view the last six rows to see the result of str_replace\n",
    "tail(who2)"
   ]
  },
  {
   "cell_type": "markdown",
   "metadata": {},
   "source": [
    "---"
   ]
  },
  {
   "cell_type": "markdown",
   "metadata": {},
   "source": [
    "# 3. Run the following code"
   ]
  },
  {
   "cell_type": "code",
   "execution_count": 10,
   "metadata": {},
   "outputs": [
    {
     "data": {
      "text/html": [
       "<table class=\"dataframe\">\n",
       "<caption>A tibble: 6 × 8</caption>\n",
       "<thead>\n",
       "\t<tr><th scope=col>country</th><th scope=col>iso2</th><th scope=col>iso3</th><th scope=col>year</th><th scope=col>new</th><th scope=col>type</th><th scope=col>sexage</th><th scope=col>cases</th></tr>\n",
       "\t<tr><th scope=col>&lt;chr&gt;</th><th scope=col>&lt;chr&gt;</th><th scope=col>&lt;chr&gt;</th><th scope=col>&lt;int&gt;</th><th scope=col>&lt;chr&gt;</th><th scope=col>&lt;chr&gt;</th><th scope=col>&lt;chr&gt;</th><th scope=col>&lt;int&gt;</th></tr>\n",
       "</thead>\n",
       "<tbody>\n",
       "\t<tr><td>Afghanistan</td><td>AF</td><td>AFG</td><td>1997</td><td>new</td><td>sp</td><td>m014 </td><td> 0</td></tr>\n",
       "\t<tr><td>Afghanistan</td><td>AF</td><td>AFG</td><td>1997</td><td>new</td><td>sp</td><td>m1524</td><td>10</td></tr>\n",
       "\t<tr><td>Afghanistan</td><td>AF</td><td>AFG</td><td>1997</td><td>new</td><td>sp</td><td>m2534</td><td> 6</td></tr>\n",
       "\t<tr><td>Afghanistan</td><td>AF</td><td>AFG</td><td>1997</td><td>new</td><td>sp</td><td>m3544</td><td> 3</td></tr>\n",
       "\t<tr><td>Afghanistan</td><td>AF</td><td>AFG</td><td>1997</td><td>new</td><td>sp</td><td>m4554</td><td> 5</td></tr>\n",
       "\t<tr><td>Afghanistan</td><td>AF</td><td>AFG</td><td>1997</td><td>new</td><td>sp</td><td>m5564</td><td> 2</td></tr>\n",
       "</tbody>\n",
       "</table>\n"
      ],
      "text/latex": [
       "A tibble: 6 × 8\n",
       "\\begin{tabular}{llllllll}\n",
       " country & iso2 & iso3 & year & new & type & sexage & cases\\\\\n",
       " <chr> & <chr> & <chr> & <int> & <chr> & <chr> & <chr> & <int>\\\\\n",
       "\\hline\n",
       "\t Afghanistan & AF & AFG & 1997 & new & sp & m014  &  0\\\\\n",
       "\t Afghanistan & AF & AFG & 1997 & new & sp & m1524 & 10\\\\\n",
       "\t Afghanistan & AF & AFG & 1997 & new & sp & m2534 &  6\\\\\n",
       "\t Afghanistan & AF & AFG & 1997 & new & sp & m3544 &  3\\\\\n",
       "\t Afghanistan & AF & AFG & 1997 & new & sp & m4554 &  5\\\\\n",
       "\t Afghanistan & AF & AFG & 1997 & new & sp & m5564 &  2\\\\\n",
       "\\end{tabular}\n"
      ],
      "text/markdown": [
       "\n",
       "A tibble: 6 × 8\n",
       "\n",
       "| country &lt;chr&gt; | iso2 &lt;chr&gt; | iso3 &lt;chr&gt; | year &lt;int&gt; | new &lt;chr&gt; | type &lt;chr&gt; | sexage &lt;chr&gt; | cases &lt;int&gt; |\n",
       "|---|---|---|---|---|---|---|---|\n",
       "| Afghanistan | AF | AFG | 1997 | new | sp | m014  |  0 |\n",
       "| Afghanistan | AF | AFG | 1997 | new | sp | m1524 | 10 |\n",
       "| Afghanistan | AF | AFG | 1997 | new | sp | m2534 |  6 |\n",
       "| Afghanistan | AF | AFG | 1997 | new | sp | m3544 |  3 |\n",
       "| Afghanistan | AF | AFG | 1997 | new | sp | m4554 |  5 |\n",
       "| Afghanistan | AF | AFG | 1997 | new | sp | m5564 |  2 |\n",
       "\n"
      ],
      "text/plain": [
       "  country     iso2 iso3 year new type sexage cases\n",
       "1 Afghanistan AF   AFG  1997 new sp   m014    0   \n",
       "2 Afghanistan AF   AFG  1997 new sp   m1524  10   \n",
       "3 Afghanistan AF   AFG  1997 new sp   m2534   6   \n",
       "4 Afghanistan AF   AFG  1997 new sp   m3544   3   \n",
       "5 Afghanistan AF   AFG  1997 new sp   m4554   5   \n",
       "6 Afghanistan AF   AFG  1997 new sp   m5564   2   "
      ]
     },
     "metadata": {},
     "output_type": "display_data"
    }
   ],
   "source": [
    "#3. (2 mark) Run the following code\n",
    "who3 <- who2 %>% separate(key, into = c(\"new\", \"type\", \"sexage\"), sep = \"_\")\n",
    "head(who3)"
   ]
  },
  {
   "cell_type": "markdown",
   "metadata": {},
   "source": [
    "## Purpose of using %>%"
   ]
  },
  {
   "cell_type": "markdown",
   "metadata": {},
   "source": [
    "%>% is called the pipe operator. R being a functional language, it means that code will often have a lot of ( ) as the result of one function is being input into another function. This eventually results into code that is hard to read. The %>% operator simplifies code by allowing the result of one function to  be piped into another. As a result, code is much more readable."
   ]
  },
  {
   "cell_type": "markdown",
   "metadata": {},
   "source": [
    "---"
   ]
  },
  {
   "cell_type": "markdown",
   "metadata": {},
   "source": [
    "# 4. Separate sexage into sex and age"
   ]
  },
  {
   "cell_type": "markdown",
   "metadata": {},
   "source": [
    "## *separate* function"
   ]
  },
  {
   "cell_type": "markdown",
   "metadata": {},
   "source": [
    "The *separate* function separates a data frame into multiple columns."
   ]
  },
  {
   "cell_type": "code",
   "execution_count": 14,
   "metadata": {},
   "outputs": [
    {
     "data": {
      "text/html": [
       "<table class=\"dataframe\">\n",
       "<caption>A tibble: 6 × 9</caption>\n",
       "<thead>\n",
       "\t<tr><th scope=col>country</th><th scope=col>iso2</th><th scope=col>iso3</th><th scope=col>year</th><th scope=col>new</th><th scope=col>type</th><th scope=col>sex</th><th scope=col>age</th><th scope=col>cases</th></tr>\n",
       "\t<tr><th scope=col>&lt;chr&gt;</th><th scope=col>&lt;chr&gt;</th><th scope=col>&lt;chr&gt;</th><th scope=col>&lt;int&gt;</th><th scope=col>&lt;chr&gt;</th><th scope=col>&lt;chr&gt;</th><th scope=col>&lt;chr&gt;</th><th scope=col>&lt;chr&gt;</th><th scope=col>&lt;int&gt;</th></tr>\n",
       "</thead>\n",
       "<tbody>\n",
       "\t<tr><td>Zimbabwe</td><td>ZW</td><td>ZWE</td><td>2013</td><td>new</td><td>rel</td><td>f</td><td>1524</td><td>2069</td></tr>\n",
       "\t<tr><td>Zimbabwe</td><td>ZW</td><td>ZWE</td><td>2013</td><td>new</td><td>rel</td><td>f</td><td>2534</td><td>4649</td></tr>\n",
       "\t<tr><td>Zimbabwe</td><td>ZW</td><td>ZWE</td><td>2013</td><td>new</td><td>rel</td><td>f</td><td>3544</td><td>3526</td></tr>\n",
       "\t<tr><td>Zimbabwe</td><td>ZW</td><td>ZWE</td><td>2013</td><td>new</td><td>rel</td><td>f</td><td>4554</td><td>1453</td></tr>\n",
       "\t<tr><td>Zimbabwe</td><td>ZW</td><td>ZWE</td><td>2013</td><td>new</td><td>rel</td><td>f</td><td>5564</td><td> 811</td></tr>\n",
       "\t<tr><td>Zimbabwe</td><td>ZW</td><td>ZWE</td><td>2013</td><td>new</td><td>rel</td><td>f</td><td>65  </td><td> 725</td></tr>\n",
       "</tbody>\n",
       "</table>\n"
      ],
      "text/latex": [
       "A tibble: 6 × 9\n",
       "\\begin{tabular}{lllllllll}\n",
       " country & iso2 & iso3 & year & new & type & sex & age & cases\\\\\n",
       " <chr> & <chr> & <chr> & <int> & <chr> & <chr> & <chr> & <chr> & <int>\\\\\n",
       "\\hline\n",
       "\t Zimbabwe & ZW & ZWE & 2013 & new & rel & f & 1524 & 2069\\\\\n",
       "\t Zimbabwe & ZW & ZWE & 2013 & new & rel & f & 2534 & 4649\\\\\n",
       "\t Zimbabwe & ZW & ZWE & 2013 & new & rel & f & 3544 & 3526\\\\\n",
       "\t Zimbabwe & ZW & ZWE & 2013 & new & rel & f & 4554 & 1453\\\\\n",
       "\t Zimbabwe & ZW & ZWE & 2013 & new & rel & f & 5564 &  811\\\\\n",
       "\t Zimbabwe & ZW & ZWE & 2013 & new & rel & f & 65   &  725\\\\\n",
       "\\end{tabular}\n"
      ],
      "text/markdown": [
       "\n",
       "A tibble: 6 × 9\n",
       "\n",
       "| country &lt;chr&gt; | iso2 &lt;chr&gt; | iso3 &lt;chr&gt; | year &lt;int&gt; | new &lt;chr&gt; | type &lt;chr&gt; | sex &lt;chr&gt; | age &lt;chr&gt; | cases &lt;int&gt; |\n",
       "|---|---|---|---|---|---|---|---|---|\n",
       "| Zimbabwe | ZW | ZWE | 2013 | new | rel | f | 1524 | 2069 |\n",
       "| Zimbabwe | ZW | ZWE | 2013 | new | rel | f | 2534 | 4649 |\n",
       "| Zimbabwe | ZW | ZWE | 2013 | new | rel | f | 3544 | 3526 |\n",
       "| Zimbabwe | ZW | ZWE | 2013 | new | rel | f | 4554 | 1453 |\n",
       "| Zimbabwe | ZW | ZWE | 2013 | new | rel | f | 5564 |  811 |\n",
       "| Zimbabwe | ZW | ZWE | 2013 | new | rel | f | 65   |  725 |\n",
       "\n"
      ],
      "text/plain": [
       "  country  iso2 iso3 year new type sex age  cases\n",
       "1 Zimbabwe ZW   ZWE  2013 new rel  f   1524 2069 \n",
       "2 Zimbabwe ZW   ZWE  2013 new rel  f   2534 4649 \n",
       "3 Zimbabwe ZW   ZWE  2013 new rel  f   3544 3526 \n",
       "4 Zimbabwe ZW   ZWE  2013 new rel  f   4554 1453 \n",
       "5 Zimbabwe ZW   ZWE  2013 new rel  f   5564  811 \n",
       "6 Zimbabwe ZW   ZWE  2013 new rel  f   65    725 "
      ]
     },
     "metadata": {},
     "output_type": "display_data"
    }
   ],
   "source": [
    "# 4. (1 mark) Separate sexage into sex and age: Use the function s --------\n",
    "\n",
    "who4 <- who3 %>% separate(sexage, into = c(\"sex\", \"age\"), sep = 1)\n",
    "tail(who4)"
   ]
  },
  {
   "cell_type": "markdown",
   "metadata": {},
   "source": [
    "---"
   ]
  },
  {
   "cell_type": "markdown",
   "metadata": {},
   "source": [
    "# 5. Print the first 5 rows and the last 5 rows"
   ]
  },
  {
   "cell_type": "markdown",
   "metadata": {},
   "source": [
    "## *head* and *tail* functions"
   ]
  },
  {
   "cell_type": "markdown",
   "metadata": {},
   "source": [
    "The head and the tail function can be used to print the first five and the last five rows respectively by providing the dataset as the first argument and the number of rows that you intend to print as the second argument."
   ]
  },
  {
   "cell_type": "code",
   "execution_count": 9,
   "metadata": {},
   "outputs": [
    {
     "data": {
      "text/html": [
       "<table class=\"dataframe\">\n",
       "<caption>A tibble: 5 × 9</caption>\n",
       "<thead>\n",
       "\t<tr><th scope=col>country</th><th scope=col>iso2</th><th scope=col>iso3</th><th scope=col>year</th><th scope=col>new</th><th scope=col>type</th><th scope=col>sex</th><th scope=col>age</th><th scope=col>cases</th></tr>\n",
       "\t<tr><th scope=col>&lt;chr&gt;</th><th scope=col>&lt;chr&gt;</th><th scope=col>&lt;chr&gt;</th><th scope=col>&lt;int&gt;</th><th scope=col>&lt;chr&gt;</th><th scope=col>&lt;chr&gt;</th><th scope=col>&lt;chr&gt;</th><th scope=col>&lt;chr&gt;</th><th scope=col>&lt;int&gt;</th></tr>\n",
       "</thead>\n",
       "<tbody>\n",
       "\t<tr><td>Afghanistan</td><td>AF</td><td>AFG</td><td>1997</td><td>new</td><td>sp</td><td>m</td><td>014 </td><td> 0</td></tr>\n",
       "\t<tr><td>Afghanistan</td><td>AF</td><td>AFG</td><td>1997</td><td>new</td><td>sp</td><td>m</td><td>1524</td><td>10</td></tr>\n",
       "\t<tr><td>Afghanistan</td><td>AF</td><td>AFG</td><td>1997</td><td>new</td><td>sp</td><td>m</td><td>2534</td><td> 6</td></tr>\n",
       "\t<tr><td>Afghanistan</td><td>AF</td><td>AFG</td><td>1997</td><td>new</td><td>sp</td><td>m</td><td>3544</td><td> 3</td></tr>\n",
       "\t<tr><td>Afghanistan</td><td>AF</td><td>AFG</td><td>1997</td><td>new</td><td>sp</td><td>m</td><td>4554</td><td> 5</td></tr>\n",
       "</tbody>\n",
       "</table>\n"
      ],
      "text/latex": [
       "A tibble: 5 × 9\n",
       "\\begin{tabular}{lllllllll}\n",
       " country & iso2 & iso3 & year & new & type & sex & age & cases\\\\\n",
       " <chr> & <chr> & <chr> & <int> & <chr> & <chr> & <chr> & <chr> & <int>\\\\\n",
       "\\hline\n",
       "\t Afghanistan & AF & AFG & 1997 & new & sp & m & 014  &  0\\\\\n",
       "\t Afghanistan & AF & AFG & 1997 & new & sp & m & 1524 & 10\\\\\n",
       "\t Afghanistan & AF & AFG & 1997 & new & sp & m & 2534 &  6\\\\\n",
       "\t Afghanistan & AF & AFG & 1997 & new & sp & m & 3544 &  3\\\\\n",
       "\t Afghanistan & AF & AFG & 1997 & new & sp & m & 4554 &  5\\\\\n",
       "\\end{tabular}\n"
      ],
      "text/markdown": [
       "\n",
       "A tibble: 5 × 9\n",
       "\n",
       "| country &lt;chr&gt; | iso2 &lt;chr&gt; | iso3 &lt;chr&gt; | year &lt;int&gt; | new &lt;chr&gt; | type &lt;chr&gt; | sex &lt;chr&gt; | age &lt;chr&gt; | cases &lt;int&gt; |\n",
       "|---|---|---|---|---|---|---|---|---|\n",
       "| Afghanistan | AF | AFG | 1997 | new | sp | m | 014  |  0 |\n",
       "| Afghanistan | AF | AFG | 1997 | new | sp | m | 1524 | 10 |\n",
       "| Afghanistan | AF | AFG | 1997 | new | sp | m | 2534 |  6 |\n",
       "| Afghanistan | AF | AFG | 1997 | new | sp | m | 3544 |  3 |\n",
       "| Afghanistan | AF | AFG | 1997 | new | sp | m | 4554 |  5 |\n",
       "\n"
      ],
      "text/plain": [
       "  country     iso2 iso3 year new type sex age  cases\n",
       "1 Afghanistan AF   AFG  1997 new sp   m   014   0   \n",
       "2 Afghanistan AF   AFG  1997 new sp   m   1524 10   \n",
       "3 Afghanistan AF   AFG  1997 new sp   m   2534  6   \n",
       "4 Afghanistan AF   AFG  1997 new sp   m   3544  3   \n",
       "5 Afghanistan AF   AFG  1997 new sp   m   4554  5   "
      ]
     },
     "metadata": {},
     "output_type": "display_data"
    }
   ],
   "source": [
    "#first 5\n",
    "head(who4, 5)"
   ]
  },
  {
   "cell_type": "code",
   "execution_count": 10,
   "metadata": {},
   "outputs": [
    {
     "data": {
      "text/html": [
       "<table class=\"dataframe\">\n",
       "<caption>A tibble: 5 × 9</caption>\n",
       "<thead>\n",
       "\t<tr><th scope=col>country</th><th scope=col>iso2</th><th scope=col>iso3</th><th scope=col>year</th><th scope=col>new</th><th scope=col>type</th><th scope=col>sex</th><th scope=col>age</th><th scope=col>cases</th></tr>\n",
       "\t<tr><th scope=col>&lt;chr&gt;</th><th scope=col>&lt;chr&gt;</th><th scope=col>&lt;chr&gt;</th><th scope=col>&lt;int&gt;</th><th scope=col>&lt;chr&gt;</th><th scope=col>&lt;chr&gt;</th><th scope=col>&lt;chr&gt;</th><th scope=col>&lt;chr&gt;</th><th scope=col>&lt;int&gt;</th></tr>\n",
       "</thead>\n",
       "<tbody>\n",
       "\t<tr><td>Zimbabwe</td><td>ZW</td><td>ZWE</td><td>2013</td><td>new</td><td>rel</td><td>f</td><td>2534</td><td>4649</td></tr>\n",
       "\t<tr><td>Zimbabwe</td><td>ZW</td><td>ZWE</td><td>2013</td><td>new</td><td>rel</td><td>f</td><td>3544</td><td>3526</td></tr>\n",
       "\t<tr><td>Zimbabwe</td><td>ZW</td><td>ZWE</td><td>2013</td><td>new</td><td>rel</td><td>f</td><td>4554</td><td>1453</td></tr>\n",
       "\t<tr><td>Zimbabwe</td><td>ZW</td><td>ZWE</td><td>2013</td><td>new</td><td>rel</td><td>f</td><td>5564</td><td> 811</td></tr>\n",
       "\t<tr><td>Zimbabwe</td><td>ZW</td><td>ZWE</td><td>2013</td><td>new</td><td>rel</td><td>f</td><td>65  </td><td> 725</td></tr>\n",
       "</tbody>\n",
       "</table>\n"
      ],
      "text/latex": [
       "A tibble: 5 × 9\n",
       "\\begin{tabular}{lllllllll}\n",
       " country & iso2 & iso3 & year & new & type & sex & age & cases\\\\\n",
       " <chr> & <chr> & <chr> & <int> & <chr> & <chr> & <chr> & <chr> & <int>\\\\\n",
       "\\hline\n",
       "\t Zimbabwe & ZW & ZWE & 2013 & new & rel & f & 2534 & 4649\\\\\n",
       "\t Zimbabwe & ZW & ZWE & 2013 & new & rel & f & 3544 & 3526\\\\\n",
       "\t Zimbabwe & ZW & ZWE & 2013 & new & rel & f & 4554 & 1453\\\\\n",
       "\t Zimbabwe & ZW & ZWE & 2013 & new & rel & f & 5564 &  811\\\\\n",
       "\t Zimbabwe & ZW & ZWE & 2013 & new & rel & f & 65   &  725\\\\\n",
       "\\end{tabular}\n"
      ],
      "text/markdown": [
       "\n",
       "A tibble: 5 × 9\n",
       "\n",
       "| country &lt;chr&gt; | iso2 &lt;chr&gt; | iso3 &lt;chr&gt; | year &lt;int&gt; | new &lt;chr&gt; | type &lt;chr&gt; | sex &lt;chr&gt; | age &lt;chr&gt; | cases &lt;int&gt; |\n",
       "|---|---|---|---|---|---|---|---|---|\n",
       "| Zimbabwe | ZW | ZWE | 2013 | new | rel | f | 2534 | 4649 |\n",
       "| Zimbabwe | ZW | ZWE | 2013 | new | rel | f | 3544 | 3526 |\n",
       "| Zimbabwe | ZW | ZWE | 2013 | new | rel | f | 4554 | 1453 |\n",
       "| Zimbabwe | ZW | ZWE | 2013 | new | rel | f | 5564 |  811 |\n",
       "| Zimbabwe | ZW | ZWE | 2013 | new | rel | f | 65   |  725 |\n",
       "\n"
      ],
      "text/plain": [
       "  country  iso2 iso3 year new type sex age  cases\n",
       "1 Zimbabwe ZW   ZWE  2013 new rel  f   2534 4649 \n",
       "2 Zimbabwe ZW   ZWE  2013 new rel  f   3544 3526 \n",
       "3 Zimbabwe ZW   ZWE  2013 new rel  f   4554 1453 \n",
       "4 Zimbabwe ZW   ZWE  2013 new rel  f   5564  811 \n",
       "5 Zimbabwe ZW   ZWE  2013 new rel  f   65    725 "
      ]
     },
     "metadata": {},
     "output_type": "display_data"
    }
   ],
   "source": [
    "#last 5\n",
    "tail(who4, 5)"
   ]
  },
  {
   "cell_type": "markdown",
   "metadata": {},
   "source": [
    "---"
   ]
  },
  {
   "cell_type": "markdown",
   "metadata": {},
   "source": [
    "# 6. Export who4 as an csv file and save it in your local directory."
   ]
  },
  {
   "cell_type": "markdown",
   "metadata": {},
   "source": [
    "## *write.csv* function"
   ]
  },
  {
   "cell_type": "markdown",
   "metadata": {},
   "source": [
    "The *write.csv* function takes the dataframe as the first argument and path you want to save your file to as the second argument. In our case, we have specified the file \"who4.csv\" to be saved in the Documents folder."
   ]
  },
  {
   "cell_type": "code",
   "execution_count": 15,
   "metadata": {},
   "outputs": [],
   "source": [
    "path = \"C:\\\\Users\\\\joshua\\\\Documents\\\\who4.csv\"\n",
    "write.csv(who4, path)"
   ]
  }
 ],
 "metadata": {
  "kernelspec": {
   "display_name": "R",
   "language": "R",
   "name": "ir"
  },
  "language_info": {
   "codemirror_mode": "r",
   "file_extension": ".r",
   "mimetype": "text/x-r-source",
   "name": "R",
   "pygments_lexer": "r",
   "version": "4.0.5"
  }
 },
 "nbformat": 4,
 "nbformat_minor": 4
}
